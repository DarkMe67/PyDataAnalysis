{
 "cells": [
  {
   "cell_type": "markdown",
   "id": "290da1f0",
   "metadata": {},
   "source": [
    "# pandasSeries"
   ]
  },
  {
   "cell_type": "markdown",
   "id": "f78d0cf7",
   "metadata": {},
   "source": [
    "Some experiments with data series in pandas."
   ]
  },
  {
   "cell_type": "markdown",
   "id": "dadecb0d",
   "metadata": {},
   "source": [
    "Import the pandas module."
   ]
  },
  {
   "cell_type": "code",
   "execution_count": 1,
   "id": "d4815bf9",
   "metadata": {},
   "outputs": [],
   "source": [
    "import pandas as pd"
   ]
  },
  {
   "cell_type": "markdown",
   "id": "6fae0c2a",
   "metadata": {},
   "source": [
    "Create a data series from a list."
   ]
  },
  {
   "cell_type": "code",
   "execution_count": 2,
   "id": "bad998aa",
   "metadata": {},
   "outputs": [],
   "source": [
    "list01 = [0, 1, 2, 3]"
   ]
  },
  {
   "cell_type": "code",
   "execution_count": 3,
   "id": "5b624d44",
   "metadata": {},
   "outputs": [
    {
     "data": {
      "text/plain": [
       "[0, 1, 2, 3]"
      ]
     },
     "execution_count": 3,
     "metadata": {},
     "output_type": "execute_result"
    }
   ],
   "source": [
    "list01"
   ]
  },
  {
   "cell_type": "code",
   "execution_count": 4,
   "id": "210c058c",
   "metadata": {},
   "outputs": [],
   "source": [
    "series01 = pd.Series(list01)"
   ]
  },
  {
   "cell_type": "code",
   "execution_count": 5,
   "id": "dedb653e",
   "metadata": {},
   "outputs": [
    {
     "data": {
      "text/plain": [
       "0    0\n",
       "1    1\n",
       "2    2\n",
       "3    3\n",
       "dtype: int64"
      ]
     },
     "execution_count": 5,
     "metadata": {},
     "output_type": "execute_result"
    }
   ],
   "source": [
    "series01"
   ]
  },
  {
   "cell_type": "code",
   "execution_count": 27,
   "id": "a8288e37",
   "metadata": {},
   "outputs": [
    {
     "data": {
      "text/plain": [
       "count    4.000000\n",
       "mean     1.500000\n",
       "std      1.290994\n",
       "min      0.000000\n",
       "25%      0.750000\n",
       "50%      1.500000\n",
       "75%      2.250000\n",
       "max      3.000000\n",
       "dtype: float64"
      ]
     },
     "execution_count": 27,
     "metadata": {},
     "output_type": "execute_result"
    }
   ],
   "source": [
    "series01.describe()"
   ]
  },
  {
   "cell_type": "code",
   "execution_count": 7,
   "id": "c452b307",
   "metadata": {},
   "outputs": [],
   "source": [
    "list02 = [\"a\", \"b\", \"c\", \"d\"]"
   ]
  },
  {
   "cell_type": "code",
   "execution_count": 8,
   "id": "52809816",
   "metadata": {},
   "outputs": [
    {
     "data": {
      "text/plain": [
       "['a', 'b', 'c', 'd']"
      ]
     },
     "execution_count": 8,
     "metadata": {},
     "output_type": "execute_result"
    }
   ],
   "source": [
    "list02"
   ]
  },
  {
   "cell_type": "code",
   "execution_count": 9,
   "id": "8a973d21",
   "metadata": {},
   "outputs": [],
   "source": [
    "series02 = pd.Series(list02)"
   ]
  },
  {
   "cell_type": "code",
   "execution_count": 10,
   "id": "fd937c46",
   "metadata": {},
   "outputs": [
    {
     "data": {
      "text/plain": [
       "0    a\n",
       "1    b\n",
       "2    c\n",
       "3    d\n",
       "dtype: object"
      ]
     },
     "execution_count": 10,
     "metadata": {},
     "output_type": "execute_result"
    }
   ],
   "source": [
    "series02"
   ]
  },
  {
   "cell_type": "code",
   "execution_count": 11,
   "id": "e98b7bcc",
   "metadata": {},
   "outputs": [
    {
     "data": {
      "text/plain": [
       "1"
      ]
     },
     "execution_count": 11,
     "metadata": {},
     "output_type": "execute_result"
    }
   ],
   "source": [
    "list01[1]"
   ]
  },
  {
   "cell_type": "code",
   "execution_count": 12,
   "id": "1ed14522",
   "metadata": {},
   "outputs": [
    {
     "data": {
      "text/plain": [
       "1"
      ]
     },
     "execution_count": 12,
     "metadata": {},
     "output_type": "execute_result"
    }
   ],
   "source": [
    "series01[1]"
   ]
  },
  {
   "cell_type": "markdown",
   "id": "17e8ece9",
   "metadata": {},
   "source": [
    "Create a data frame from the two series. Note this assumes the indexes are the same."
   ]
  },
  {
   "cell_type": "code",
   "execution_count": 23,
   "id": "8289859f",
   "metadata": {},
   "outputs": [],
   "source": [
    "dataFrame01 = pd.DataFrame(data = dict(s1 = series01, s2 = series02))"
   ]
  },
  {
   "cell_type": "code",
   "execution_count": 24,
   "id": "65b0af28",
   "metadata": {},
   "outputs": [
    {
     "data": {
      "text/html": [
       "<div>\n",
       "<style scoped>\n",
       "    .dataframe tbody tr th:only-of-type {\n",
       "        vertical-align: middle;\n",
       "    }\n",
       "\n",
       "    .dataframe tbody tr th {\n",
       "        vertical-align: top;\n",
       "    }\n",
       "\n",
       "    .dataframe thead th {\n",
       "        text-align: right;\n",
       "    }\n",
       "</style>\n",
       "<table border=\"1\" class=\"dataframe\">\n",
       "  <thead>\n",
       "    <tr style=\"text-align: right;\">\n",
       "      <th></th>\n",
       "      <th>s1</th>\n",
       "      <th>s2</th>\n",
       "    </tr>\n",
       "  </thead>\n",
       "  <tbody>\n",
       "    <tr>\n",
       "      <th>0</th>\n",
       "      <td>0</td>\n",
       "      <td>a</td>\n",
       "    </tr>\n",
       "    <tr>\n",
       "      <th>1</th>\n",
       "      <td>1</td>\n",
       "      <td>b</td>\n",
       "    </tr>\n",
       "    <tr>\n",
       "      <th>2</th>\n",
       "      <td>2</td>\n",
       "      <td>c</td>\n",
       "    </tr>\n",
       "    <tr>\n",
       "      <th>3</th>\n",
       "      <td>3</td>\n",
       "      <td>d</td>\n",
       "    </tr>\n",
       "  </tbody>\n",
       "</table>\n",
       "</div>"
      ],
      "text/plain": [
       "   s1 s2\n",
       "0   0  a\n",
       "1   1  b\n",
       "2   2  c\n",
       "3   3  d"
      ]
     },
     "execution_count": 24,
     "metadata": {},
     "output_type": "execute_result"
    }
   ],
   "source": [
    "dataFrame01"
   ]
  },
  {
   "cell_type": "code",
   "execution_count": 26,
   "id": "f1f572aa",
   "metadata": {},
   "outputs": [
    {
     "data": {
      "text/html": [
       "<div>\n",
       "<style scoped>\n",
       "    .dataframe tbody tr th:only-of-type {\n",
       "        vertical-align: middle;\n",
       "    }\n",
       "\n",
       "    .dataframe tbody tr th {\n",
       "        vertical-align: top;\n",
       "    }\n",
       "\n",
       "    .dataframe thead th {\n",
       "        text-align: right;\n",
       "    }\n",
       "</style>\n",
       "<table border=\"1\" class=\"dataframe\">\n",
       "  <thead>\n",
       "    <tr style=\"text-align: right;\">\n",
       "      <th></th>\n",
       "      <th>s1</th>\n",
       "    </tr>\n",
       "  </thead>\n",
       "  <tbody>\n",
       "    <tr>\n",
       "      <th>count</th>\n",
       "      <td>4.000000</td>\n",
       "    </tr>\n",
       "    <tr>\n",
       "      <th>mean</th>\n",
       "      <td>1.500000</td>\n",
       "    </tr>\n",
       "    <tr>\n",
       "      <th>std</th>\n",
       "      <td>1.290994</td>\n",
       "    </tr>\n",
       "    <tr>\n",
       "      <th>min</th>\n",
       "      <td>0.000000</td>\n",
       "    </tr>\n",
       "    <tr>\n",
       "      <th>25%</th>\n",
       "      <td>0.750000</td>\n",
       "    </tr>\n",
       "    <tr>\n",
       "      <th>50%</th>\n",
       "      <td>1.500000</td>\n",
       "    </tr>\n",
       "    <tr>\n",
       "      <th>75%</th>\n",
       "      <td>2.250000</td>\n",
       "    </tr>\n",
       "    <tr>\n",
       "      <th>max</th>\n",
       "      <td>3.000000</td>\n",
       "    </tr>\n",
       "  </tbody>\n",
       "</table>\n",
       "</div>"
      ],
      "text/plain": [
       "             s1\n",
       "count  4.000000\n",
       "mean   1.500000\n",
       "std    1.290994\n",
       "min    0.000000\n",
       "25%    0.750000\n",
       "50%    1.500000\n",
       "75%    2.250000\n",
       "max    3.000000"
      ]
     },
     "execution_count": 26,
     "metadata": {},
     "output_type": "execute_result"
    }
   ],
   "source": [
    "dataFrame01.describe()"
   ]
  },
  {
   "cell_type": "markdown",
   "id": "d3c51b0e",
   "metadata": {},
   "source": [
    "Describe (get summary stats on a specific column or series)."
   ]
  },
  {
   "cell_type": "code",
   "execution_count": 30,
   "id": "98b95a7e",
   "metadata": {},
   "outputs": [
    {
     "data": {
      "text/plain": [
       "count    4.000000\n",
       "mean     1.500000\n",
       "std      1.290994\n",
       "min      0.000000\n",
       "25%      0.750000\n",
       "50%      1.500000\n",
       "75%      2.250000\n",
       "max      3.000000\n",
       "Name: s1, dtype: float64"
      ]
     },
     "execution_count": 30,
     "metadata": {},
     "output_type": "execute_result"
    }
   ],
   "source": [
    "dataFrame01['s1'].describe()"
   ]
  }
 ],
 "metadata": {
  "kernelspec": {
   "display_name": "Python 3",
   "language": "python",
   "name": "python3"
  },
  "language_info": {
   "codemirror_mode": {
    "name": "ipython",
    "version": 3
   },
   "file_extension": ".py",
   "mimetype": "text/x-python",
   "name": "python",
   "nbconvert_exporter": "python",
   "pygments_lexer": "ipython3",
   "version": "3.7.6"
  }
 },
 "nbformat": 4,
 "nbformat_minor": 5
}
