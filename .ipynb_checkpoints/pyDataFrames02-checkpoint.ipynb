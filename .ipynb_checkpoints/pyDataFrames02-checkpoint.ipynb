{
 "cells": [
  {
   "cell_type": "markdown",
   "id": "24a3e47d",
   "metadata": {},
   "source": [
    "# pyDataFrames02"
   ]
  },
  {
   "cell_type": "markdown",
   "id": "30854516",
   "metadata": {},
   "source": [
    "Include this line to enable auto completion:"
   ]
  },
  {
   "cell_type": "code",
   "execution_count": 1,
   "id": "cec0386d",
   "metadata": {},
   "outputs": [],
   "source": [
    "%config Completer.use_jedi = False"
   ]
  },
  {
   "cell_type": "code",
   "execution_count": 2,
   "id": "9fb27abc",
   "metadata": {},
   "outputs": [],
   "source": [
    "import pandas as pd"
   ]
  },
  {
   "cell_type": "markdown",
   "id": "f3aab3cb",
   "metadata": {},
   "source": [
    "Generate some lists:"
   ]
  },
  {
   "cell_type": "code",
   "execution_count": 3,
   "id": "8b38a09d",
   "metadata": {},
   "outputs": [],
   "source": [
    "name = ['Mark', 'Dave', 'John']"
   ]
  },
  {
   "cell_type": "code",
   "execution_count": 4,
   "id": "63fa5188",
   "metadata": {},
   "outputs": [],
   "source": [
    "age = [55, 36, 42]"
   ]
  },
  {
   "cell_type": "code",
   "execution_count": 5,
   "id": "a0a3419b",
   "metadata": {},
   "outputs": [],
   "source": [
    "weight = [230, 165, 195]"
   ]
  },
  {
   "cell_type": "code",
   "execution_count": 6,
   "id": "687006e4",
   "metadata": {},
   "outputs": [
    {
     "data": {
      "text/plain": [
       "['Mark', 'Dave', 'John']"
      ]
     },
     "execution_count": 6,
     "metadata": {},
     "output_type": "execute_result"
    }
   ],
   "source": [
    "name"
   ]
  },
  {
   "cell_type": "code",
   "execution_count": 7,
   "id": "7a6aa42d",
   "metadata": {},
   "outputs": [
    {
     "data": {
      "text/plain": [
       "[55, 36, 42]"
      ]
     },
     "execution_count": 7,
     "metadata": {},
     "output_type": "execute_result"
    }
   ],
   "source": [
    "age"
   ]
  },
  {
   "cell_type": "code",
   "execution_count": 8,
   "id": "07170b9f",
   "metadata": {},
   "outputs": [
    {
     "data": {
      "text/plain": [
       "[230, 165, 195]"
      ]
     },
     "execution_count": 8,
     "metadata": {},
     "output_type": "execute_result"
    }
   ],
   "source": [
    "weight"
   ]
  },
  {
   "cell_type": "markdown",
   "id": "dc2f3c4d",
   "metadata": {},
   "source": [
    "Create a data frame from a dictionary of these lists."
   ]
  },
  {
   "cell_type": "code",
   "execution_count": 9,
   "id": "d46185fb",
   "metadata": {},
   "outputs": [],
   "source": [
    "dfPeople = pd.DataFrame({'Name':name, 'Age':age, 'Weight':weight})"
   ]
  },
  {
   "cell_type": "code",
   "execution_count": 10,
   "id": "850050d8",
   "metadata": {},
   "outputs": [
    {
     "data": {
      "text/html": [
       "<div>\n",
       "<style scoped>\n",
       "    .dataframe tbody tr th:only-of-type {\n",
       "        vertical-align: middle;\n",
       "    }\n",
       "\n",
       "    .dataframe tbody tr th {\n",
       "        vertical-align: top;\n",
       "    }\n",
       "\n",
       "    .dataframe thead th {\n",
       "        text-align: right;\n",
       "    }\n",
       "</style>\n",
       "<table border=\"1\" class=\"dataframe\">\n",
       "  <thead>\n",
       "    <tr style=\"text-align: right;\">\n",
       "      <th></th>\n",
       "      <th>Name</th>\n",
       "      <th>Age</th>\n",
       "      <th>Weight</th>\n",
       "    </tr>\n",
       "  </thead>\n",
       "  <tbody>\n",
       "    <tr>\n",
       "      <th>0</th>\n",
       "      <td>Mark</td>\n",
       "      <td>55</td>\n",
       "      <td>230</td>\n",
       "    </tr>\n",
       "    <tr>\n",
       "      <th>1</th>\n",
       "      <td>Dave</td>\n",
       "      <td>36</td>\n",
       "      <td>165</td>\n",
       "    </tr>\n",
       "    <tr>\n",
       "      <th>2</th>\n",
       "      <td>John</td>\n",
       "      <td>42</td>\n",
       "      <td>195</td>\n",
       "    </tr>\n",
       "  </tbody>\n",
       "</table>\n",
       "</div>"
      ],
      "text/plain": [
       "   Name  Age  Weight\n",
       "0  Mark   55     230\n",
       "1  Dave   36     165\n",
       "2  John   42     195"
      ]
     },
     "execution_count": 10,
     "metadata": {},
     "output_type": "execute_result"
    }
   ],
   "source": [
    "dfPeople"
   ]
  },
  {
   "cell_type": "code",
   "execution_count": 11,
   "id": "756d5195",
   "metadata": {},
   "outputs": [
    {
     "data": {
      "text/html": [
       "<div>\n",
       "<style scoped>\n",
       "    .dataframe tbody tr th:only-of-type {\n",
       "        vertical-align: middle;\n",
       "    }\n",
       "\n",
       "    .dataframe tbody tr th {\n",
       "        vertical-align: top;\n",
       "    }\n",
       "\n",
       "    .dataframe thead th {\n",
       "        text-align: right;\n",
       "    }\n",
       "</style>\n",
       "<table border=\"1\" class=\"dataframe\">\n",
       "  <thead>\n",
       "    <tr style=\"text-align: right;\">\n",
       "      <th></th>\n",
       "      <th>Age</th>\n",
       "      <th>Weight</th>\n",
       "    </tr>\n",
       "  </thead>\n",
       "  <tbody>\n",
       "    <tr>\n",
       "      <th>count</th>\n",
       "      <td>3.000000</td>\n",
       "      <td>3.000000</td>\n",
       "    </tr>\n",
       "    <tr>\n",
       "      <th>mean</th>\n",
       "      <td>44.333333</td>\n",
       "      <td>196.666667</td>\n",
       "    </tr>\n",
       "    <tr>\n",
       "      <th>std</th>\n",
       "      <td>9.712535</td>\n",
       "      <td>32.532035</td>\n",
       "    </tr>\n",
       "    <tr>\n",
       "      <th>min</th>\n",
       "      <td>36.000000</td>\n",
       "      <td>165.000000</td>\n",
       "    </tr>\n",
       "    <tr>\n",
       "      <th>25%</th>\n",
       "      <td>39.000000</td>\n",
       "      <td>180.000000</td>\n",
       "    </tr>\n",
       "    <tr>\n",
       "      <th>50%</th>\n",
       "      <td>42.000000</td>\n",
       "      <td>195.000000</td>\n",
       "    </tr>\n",
       "    <tr>\n",
       "      <th>75%</th>\n",
       "      <td>48.500000</td>\n",
       "      <td>212.500000</td>\n",
       "    </tr>\n",
       "    <tr>\n",
       "      <th>max</th>\n",
       "      <td>55.000000</td>\n",
       "      <td>230.000000</td>\n",
       "    </tr>\n",
       "  </tbody>\n",
       "</table>\n",
       "</div>"
      ],
      "text/plain": [
       "             Age      Weight\n",
       "count   3.000000    3.000000\n",
       "mean   44.333333  196.666667\n",
       "std     9.712535   32.532035\n",
       "min    36.000000  165.000000\n",
       "25%    39.000000  180.000000\n",
       "50%    42.000000  195.000000\n",
       "75%    48.500000  212.500000\n",
       "max    55.000000  230.000000"
      ]
     },
     "execution_count": 11,
     "metadata": {},
     "output_type": "execute_result"
    }
   ],
   "source": [
    "dfPeople.describe()"
   ]
  }
 ],
 "metadata": {
  "kernelspec": {
   "display_name": "Python 3",
   "language": "python",
   "name": "python3"
  },
  "language_info": {
   "codemirror_mode": {
    "name": "ipython",
    "version": 3
   },
   "file_extension": ".py",
   "mimetype": "text/x-python",
   "name": "python",
   "nbconvert_exporter": "python",
   "pygments_lexer": "ipython3",
   "version": "3.7.6"
  }
 },
 "nbformat": 4,
 "nbformat_minor": 5
}
