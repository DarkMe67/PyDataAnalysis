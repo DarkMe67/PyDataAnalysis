{
 "cells": [
  {
   "cell_type": "markdown",
   "id": "ede20d29",
   "metadata": {},
   "source": [
    "# pyDataFrames02"
   ]
  },
  {
   "cell_type": "markdown",
   "id": "ccbc6655",
   "metadata": {},
   "source": [
    "Include this line to enable auto completion:"
   ]
  },
  {
   "cell_type": "code",
   "execution_count": 10,
   "id": "fd68c858",
   "metadata": {},
   "outputs": [],
   "source": [
    "%config Completer.use_jedi = False"
   ]
  },
  {
   "cell_type": "code",
   "execution_count": 11,
   "id": "9ae2149d",
   "metadata": {},
   "outputs": [],
   "source": [
    "import pandas as pd"
   ]
  },
  {
   "cell_type": "markdown",
   "id": "bfcb479e",
   "metadata": {},
   "source": [
    "Generate some lists:"
   ]
  },
  {
   "cell_type": "code",
   "execution_count": 12,
   "id": "d35fe059",
   "metadata": {},
   "outputs": [],
   "source": [
    "name = ['Mark', 'Dave', 'John']"
   ]
  },
  {
   "cell_type": "code",
   "execution_count": 13,
   "id": "0087f219",
   "metadata": {},
   "outputs": [],
   "source": [
    "age = [55, 36, 42]"
   ]
  },
  {
   "cell_type": "code",
   "execution_count": 14,
   "id": "76e58384",
   "metadata": {},
   "outputs": [],
   "source": [
    "weight = [230, 165, 195]"
   ]
  },
  {
   "cell_type": "code",
   "execution_count": 15,
   "id": "5a50fe47",
   "metadata": {},
   "outputs": [
    {
     "data": {
      "text/plain": [
       "['Mark', 'Dave', 'John']"
      ]
     },
     "execution_count": 15,
     "metadata": {},
     "output_type": "execute_result"
    }
   ],
   "source": [
    "name"
   ]
  },
  {
   "cell_type": "code",
   "execution_count": 16,
   "id": "06c548ba",
   "metadata": {},
   "outputs": [
    {
     "data": {
      "text/plain": [
       "[55, 36, 42]"
      ]
     },
     "execution_count": 16,
     "metadata": {},
     "output_type": "execute_result"
    }
   ],
   "source": [
    "age"
   ]
  },
  {
   "cell_type": "code",
   "execution_count": 17,
   "id": "cc756dea",
   "metadata": {},
   "outputs": [
    {
     "data": {
      "text/plain": [
       "[230, 165, 195]"
      ]
     },
     "execution_count": 17,
     "metadata": {},
     "output_type": "execute_result"
    }
   ],
   "source": [
    "weight"
   ]
  },
  {
   "cell_type": "code",
   "execution_count": 19,
   "id": "84cb2275",
   "metadata": {},
   "outputs": [],
   "source": [
    "dfPeople = pd.DataFrame({'Name':name, 'Age':age, 'Weight':weight})"
   ]
  },
  {
   "cell_type": "code",
   "execution_count": 20,
   "id": "e0f6b92f",
   "metadata": {},
   "outputs": [
    {
     "data": {
      "text/html": [
       "<div>\n",
       "<style scoped>\n",
       "    .dataframe tbody tr th:only-of-type {\n",
       "        vertical-align: middle;\n",
       "    }\n",
       "\n",
       "    .dataframe tbody tr th {\n",
       "        vertical-align: top;\n",
       "    }\n",
       "\n",
       "    .dataframe thead th {\n",
       "        text-align: right;\n",
       "    }\n",
       "</style>\n",
       "<table border=\"1\" class=\"dataframe\">\n",
       "  <thead>\n",
       "    <tr style=\"text-align: right;\">\n",
       "      <th></th>\n",
       "      <th>Name</th>\n",
       "      <th>Age</th>\n",
       "      <th>Weight</th>\n",
       "    </tr>\n",
       "  </thead>\n",
       "  <tbody>\n",
       "    <tr>\n",
       "      <th>0</th>\n",
       "      <td>Mark</td>\n",
       "      <td>55</td>\n",
       "      <td>230</td>\n",
       "    </tr>\n",
       "    <tr>\n",
       "      <th>1</th>\n",
       "      <td>Dave</td>\n",
       "      <td>36</td>\n",
       "      <td>165</td>\n",
       "    </tr>\n",
       "    <tr>\n",
       "      <th>2</th>\n",
       "      <td>John</td>\n",
       "      <td>42</td>\n",
       "      <td>195</td>\n",
       "    </tr>\n",
       "  </tbody>\n",
       "</table>\n",
       "</div>"
      ],
      "text/plain": [
       "   Name  Age  Weight\n",
       "0  Mark   55     230\n",
       "1  Dave   36     165\n",
       "2  John   42     195"
      ]
     },
     "execution_count": 20,
     "metadata": {},
     "output_type": "execute_result"
    }
   ],
   "source": [
    "dfPeople"
   ]
  }
 ],
 "metadata": {
  "kernelspec": {
   "display_name": "Python 3",
   "language": "python",
   "name": "python3"
  },
  "language_info": {
   "codemirror_mode": {
    "name": "ipython",
    "version": 3
   },
   "file_extension": ".py",
   "mimetype": "text/x-python",
   "name": "python",
   "nbconvert_exporter": "python",
   "pygments_lexer": "ipython3",
   "version": "3.7.6"
  }
 },
 "nbformat": 4,
 "nbformat_minor": 5
}
